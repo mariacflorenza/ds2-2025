{
 "cells": [
  {
   "cell_type": "markdown",
   "metadata": {},
   "source": [
    "# Clustering - Tuto 0\n",
    "\n",
    "In this 1st tuto, we simply play with KMeans and GMM on a toy multimodal dataset\n",
    "\n",
    "The objective is to illustrate a \"clustering\" method"
   ]
  },
  {
   "cell_type": "markdown",
   "metadata": {},
   "source": [
    "***\n",
    "*First, let's make sure the Python env is correct to run this notebook*:"
   ]
  },
  {
   "cell_type": "code",
   "execution_count": 1,
   "metadata": {},
   "outputs": [
    {
     "name": "stderr",
     "output_type": "stream",
     "text": [
      "/var/folders/ww/psmkfjds7xsc4kjsz66ghldr000nsn/T/tmp5ba6ca64/utils.py:66: UserWarning: \n",
      "Running on your own environment\n",
      "Make sure to have all necessary packages installed\n",
      "See: https://github.com/obidam/ds2-2025/blob/main/binder/environment.yml\n",
      "  warnings.warn(\"\\nRunning on your own environment\\nMake sure to have all necessary packages installed\\nSee: https://github.com/obidam/ds2-2025/blob/main/binder/environment.yml\")\n"
     ]
    }
   ],
   "source": [
    "import os, sys, urllib, tempfile\n",
    "with tempfile.TemporaryDirectory() as local:\n",
    "    sys.path.append(local)\n",
    "    urllib.request.urlretrieve(\"https://raw.githubusercontent.com/obidam/ds2-2025/main/utils.py\", os.path.join(local, \"utils.py\"))\n",
    "    from utils import check_up_env\n",
    "    check_up_env(with_tuto=True)"
   ]
  },
  {
   "cell_type": "code",
   "execution_count": 2,
   "metadata": {},
   "outputs": [
    {
     "name": "stdout",
     "output_type": "stream",
     "text": [
      "/Users/gmaze/.matplotlib\n"
     ]
    }
   ],
   "source": [
    "import matplotlib as mpl\n",
    "print(mpl.get_cachedir())"
   ]
  },
  {
   "cell_type": "code",
   "execution_count": null,
   "metadata": {},
   "outputs": [],
   "source": []
  },
  {
   "cell_type": "code",
   "execution_count": null,
   "metadata": {},
   "outputs": [],
   "source": [
    "# Libraries import section\n",
    "import os\n",
    "\n",
    "import xarray as xr\n",
    "import numpy as np\n",
    "\n",
    "import matplotlib\n",
    "import matplotlib.pyplot as plt\n",
    "import matplotlib.cm as cm\n",
    "from matplotlib.colors import ListedColormap\n",
    "%matplotlib inline\n",
    "\n",
    "import seaborn as sns\n",
    "sns.set(context=\"notebook\", style=\"whitegrid\", palette=\"deep\", color_codes=True)\n",
    "\n",
    "import pandas as pd\n",
    "\n",
    "from tuto_tools import new_sample, translate, rotate, stretch\n",
    "from tuto_tools import plot2d_labels, plot_GMMellipse, sns_plot2d_GMM_marginals  "
   ]
  },
  {
   "cell_type": "markdown",
   "metadata": {},
   "source": [
    "# Create a dummy dataset\n",
    "\n",
    "we use a 2D sample datasets with Normal distributions\n",
    "\n",
    "The dataset array is in \"X\", true labels in \"y\"\n"
   ]
  },
  {
   "cell_type": "code",
   "execution_count": null,
   "metadata": {},
   "outputs": [],
   "source": [
    "n = 500 # Number of samples per cluster\n",
    "\n",
    "# Create the 2st cluster:\n",
    "il = 0 # Init cluster IDs\n",
    "s = new_sample([10,0],1,n=n)\n",
    "X, y = s['data'], s['labels'] # 1st label is \"0\"\n",
    "\n",
    "# Add another one:\n",
    "il += 1\n",
    "X, y = np.concatenate((X,new_sample([5,0],2,n=n)['data']),axis=0), np.concatenate((y,np.full((n),il)),axis=0)\n",
    "\n",
    "# Add another one:\n",
    "il += 1\n",
    "X, y = np.concatenate((X,new_sample([5,5],0.7,n=n)['data']),axis=0), np.concatenate((y,np.full((n),il)),axis=0)\n",
    "\n",
    "# Add another one:\n",
    "il += 1\n",
    "x = translate(rotate(stretch(new_sample([0,0],1,n=2*n)['data'],m=[5,1]),a=45),v=[0,5])\n",
    "X, y = np.concatenate((X,x),axis=0), np.concatenate((y,np.full((2*n),il)),axis=0)\n",
    "\n",
    "# Final nb of clusters:\n",
    "n_clusters_true = il+1\n",
    "print(\"Create a dummy dataset with %i clusters\"%n_clusters_true)"
   ]
  },
  {
   "cell_type": "code",
   "execution_count": null,
   "metadata": {},
   "outputs": [],
   "source": [
    "# Plot the dummy dataset\n",
    "plt.figure(figsize=(10,10), dpi=160, facecolor='w', edgecolor='k')\n",
    "plt.subplot(221)\n",
    "plt.plot(X[:, 0], X[:, 1],'k.',markersize=5)\n",
    "plt.axis('equal')\n",
    "plt.title(\"Raw dataset\")\n",
    "plt.subplot(222)\n",
    "plt.scatter(X[:, 0], X[:, 1], 5, c=y, cmap=ListedColormap(sns.husl_palette(n_clusters_true).as_hex()))\n",
    "plt.axis('equal')\n",
    "plt.title(\"True %i cluster labels\"%n_clusters_true);"
   ]
  },
  {
   "cell_type": "markdown",
   "metadata": {},
   "source": [
    "# Clustering with KMeans\n",
    "\n",
    "To see how KMeans iterates to identify clusters, see the Stanford interactive tool:\n",
    "\n",
    "http://stanford.edu/class/ee103/visualizations/kmeans/kmeans.html"
   ]
  },
  {
   "cell_type": "code",
   "execution_count": null,
   "metadata": {},
   "outputs": [],
   "source": [
    "from sklearn.cluster import KMeans\n",
    "\n",
    "# Create the classifier:\n",
    "kmeans = KMeans(n_clusters=n_clusters_true, random_state=0, n_init=10)\n",
    "\n",
    "# Train the classifier:\n",
    "kmeans.fit(X)\n",
    "\n",
    "# Classify the dataset:\n",
    "labels = kmeans.predict(X)\n",
    "\n",
    "#\n",
    "n_clusters_ = kmeans.n_clusters\n",
    "print(\"Cluster centers shape:\",kmeans.cluster_centers_.shape)\n",
    "print(\"Cluster centers:\\n\",kmeans.cluster_centers_)"
   ]
  },
  {
   "cell_type": "code",
   "execution_count": null,
   "metadata": {},
   "outputs": [],
   "source": [
    "# Plot labels of data with cluster centers:\n",
    "fig, ax, colors = plot2d_labels(X,labels,cluster_centers=kmeans.cluster_centers_,kmarkersize=14)"
   ]
  },
  {
   "cell_type": "markdown",
   "metadata": {},
   "source": [
    "# Clustering with GMM"
   ]
  },
  {
   "cell_type": "code",
   "execution_count": null,
   "metadata": {},
   "outputs": [],
   "source": [
    "from sklearn.mixture import GaussianMixture as GMM\n",
    "\n",
    "# Create classifier:\n",
    "gmm = GMM(n_components=n_clusters_true, random_state=0)\n",
    "\n",
    "# Train it:\n",
    "gmm.fit(X)\n",
    "\n",
    "# Classify data:\n",
    "labels = gmm.predict(X)\n",
    "\n",
    "# \n",
    "n_clusters_ = gmm.n_components\n",
    "print(\"Cluster centers shape:\",gmm.means_.shape)\n",
    "print(\"Cluster centers:\\n\",gmm.means_)"
   ]
  },
  {
   "cell_type": "code",
   "execution_count": null,
   "metadata": {},
   "outputs": [],
   "source": [
    "# Plot labels of data with cluster centers:\n",
    "fig, ax, colors = plot2d_labels(X,labels,cluster_centers=gmm.means_,kmarkersize=14)"
   ]
  },
  {
   "cell_type": "markdown",
   "metadata": {},
   "source": [
    "## Visualise Gaussian Modes of each clusters"
   ]
  },
  {
   "cell_type": "code",
   "execution_count": null,
   "metadata": {},
   "outputs": [],
   "source": [
    "# Simple plot with labelled data:\n",
    "fig, ax, colors = plot2d_labels(X, labels, dpi=80)\n",
    "\n",
    "# Super-impose the GMM modes:\n",
    "for k, col in zip(range(n_clusters_), colors):\n",
    "    el,ax = plot_GMMellipse(gmm,[0,1],k,col,ax,std=[1],label=\"Class-%i Gaussian\"%(k),linewidth=4)\n",
    "    el,ax = plot_GMMellipse(gmm,[0,1],k,'k',ax,std=[1],linewidth=2)\n",
    "    el,ax = plot_GMMellipse(gmm,[0,1],k,'k',ax,std=[2],linewidth=1)\n",
    "#     id = [0,1]\n",
    "#     covariances = gmm.covariances_[k][(id[0],id[0],id[1],id[1]),(id[0],id[1],id[0],id[1])].reshape(2,2)\n",
    "#     print \"Cluster %i covariance matrix:\\n\"%k, covariances\n",
    "#     print \"Cluster %i center matrix:\\n\"%k, gmm.means_[k,:]\n",
    "\n",
    "ax.axis('equal')\n",
    "plt.title('Number of clusters: %i (GMM)' % n_clusters_)\n",
    "plt.legend()\n",
    "plt.show()"
   ]
  },
  {
   "cell_type": "markdown",
   "metadata": {},
   "source": [
    "## Super-imposed Gaussian Modes with the dataset pdf"
   ]
  },
  {
   "cell_type": "code",
   "execution_count": null,
   "metadata": {},
   "outputs": [],
   "source": [
    "# Assemble variables to use in a Pandas dataframe:\n",
    "df = pd.DataFrame(np.concatenate((X,labels[np.newaxis].T),axis=1), columns=[\"x\", \"y\", \"labels\"])\n",
    "\n",
    "# Plot the 2d data, with GMM modes and marginal distributions:\n",
    "g = sns_plot2d_GMM_marginals(df, gmm)"
   ]
  },
  {
   "cell_type": "markdown",
   "metadata": {},
   "source": [
    "## Exercise\n",
    "\n",
    "Modify the imposed shape of the covariance matrix in the GMM and visualise new results\n",
    "\n",
    "The option name is `covariance_type` and possible values are `['spherical', 'diag', 'tied', 'full']`"
   ]
  },
  {
   "cell_type": "code",
   "execution_count": null,
   "metadata": {},
   "outputs": [],
   "source": [
    "from sklearn.mixture import GaussianMixture as GMM"
   ]
  }
 ],
 "metadata": {
  "kernelspec": {
   "display_name": "ds2-coiled-2025-binder",
   "language": "python",
   "name": "ds2-coiled-2025-binder"
  },
  "language_info": {
   "codemirror_mode": {
    "name": "ipython",
    "version": 3
   },
   "file_extension": ".py",
   "mimetype": "text/x-python",
   "name": "python",
   "nbconvert_exporter": "python",
   "pygments_lexer": "ipython3",
   "version": "3.11.7"
  },
  "widgets": {
   "application/vnd.jupyter.widget-state+json": {
    "state": {},
    "version_major": 2,
    "version_minor": 0
   }
  }
 },
 "nbformat": 4,
 "nbformat_minor": 4
}
