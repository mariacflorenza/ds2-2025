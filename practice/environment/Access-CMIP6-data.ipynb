{
 "cells": [
  {
   "cell_type": "markdown",
   "metadata": {},
   "source": [
    "# CMIP6 data\n",
    "\n",
    "This notebook shows how to access CMIP6 data from the cloud"
   ]
  },
  {
   "cell_type": "markdown",
   "metadata": {},
   "source": [
    "## Import modules and libraries"
   ]
  },
  {
   "cell_type": "markdown",
   "metadata": {},
   "source": [
    "*First, let's make sure the Python env is correct to run this notebook*:"
   ]
  },
  {
   "cell_type": "code",
   "execution_count": null,
   "metadata": {},
   "outputs": [],
   "source": [
    "import os, sys, urllib, tempfile\n",
    "with tempfile.TemporaryDirectory() as tmpdirname:\n",
    "    sys.path.append(tmpdirname)\n",
    "    repo = \"https://raw.githubusercontent.com/obidam/ds2-2025/main/\"\n",
    "    urllib.request.urlretrieve(os.path.join(repo, \"utils.py\"), \n",
    "                               os.path.join(tmpdirname, \"utils.py\"))\n",
    "    from utils import check_up_env\n",
    "    ds2tools = check_up_env(with_tuto=True)"
   ]
  },
  {
   "cell_type": "code",
   "execution_count": null,
   "metadata": {},
   "outputs": [],
   "source": [
    "import sys\n",
    "import gcsfs\n",
    "import xarray as xr\n",
    "import intake\n",
    "import zarr\n",
    "import pandas as pd\n",
    "\n",
    "import matplotlib as mpl\n",
    "import matplotlib.pyplot as plt\n",
    "import cartopy.crs as ccrs\n",
    "import cartopy.feature as cfeature\n",
    "create_map = ds2tools.create_map\n",
    "\n",
    "# this only needs to be created once\n",
    "gcs = gcsfs.GCSFileSystem(token='anon')\n",
    "\n",
    "# \n",
    "xr.set_options(display_style='html')\n",
    "%matplotlib inline\n",
    "%config InlineBackend.figure_format = 'retina' "
   ]
  },
  {
   "cell_type": "markdown",
   "metadata": {},
   "source": [
    "## Read the full CMIP6 catalog"
   ]
  },
  {
   "cell_type": "code",
   "execution_count": null,
   "metadata": {},
   "outputs": [],
   "source": [
    "df_full = pd.read_csv('https://storage.googleapis.com/cmip6/cmip6-zarr-consolidated-stores.csv')\n",
    "df_full.sample(10)"
   ]
  },
  {
   "cell_type": "markdown",
   "metadata": {},
   "source": [
    "### Make a subset of it"
   ]
  },
  {
   "cell_type": "code",
   "execution_count": null,
   "metadata": {},
   "outputs": [],
   "source": [
    "# df = df_full.query(\"activity_id=='CMIP' & table_id == 'Omon' & variable_id == 'thetao' & experiment_id == 'historical' & member_id == 'r1i1p1f1'\")\n",
    "df = df_full.query(\"activity_id=='CMIP' & table_id == 'Omon' & institution_id == 'CNRM-CERFACS' & experiment_id == 'historical'\")\n",
    "# df = df_full.query('institution_id == \"CNRM-CERFACS\" & member_id==\"r1i1p1f2\" & source_id==\"CNRM-CM6-1\"')\n",
    "\n",
    "# df = df_full.query(\"activity_id=='CMIP' & table_id == 'Omon' & variable_id == 'thetao' & experiment_id == 'abrupt-4xCO2'\")\n",
    "\n",
    "# df = df.query(\"source_id=='CNRM-CM6-1-HR' & variable_id=='thetao'\") # Horizontal resolution up to 1/4 deg\n",
    "# df = df.query(\"source_id=='CNRM-ESM2-1' & variable_id=='thetao'\") # Horizontal resolution up to 1deg\n",
    "df = df.query(\"source_id=='CNRM-ESM2-1' & (variable_id=='thetao' | variable_id=='so')\") # Horizontal resolution up to 1deg\n",
    "\n",
    "# df = df.sort_values('version')\n",
    "df = df.sort_values('member_id')\n",
    "df"
   ]
  },
  {
   "cell_type": "markdown",
   "metadata": {},
   "source": [
    "## Read some data (1 row of the catalog)"
   ]
  },
  {
   "cell_type": "code",
   "execution_count": null,
   "metadata": {},
   "outputs": [],
   "source": [
    "def open_cmip6(df_row):\n",
    "    # get the path to zarr store\n",
    "    zstore = df.zstore.values[-1]\n",
    "    print(zstore)\n",
    "    \n",
    "    # create a mutable-mapping-style interface to the store\n",
    "    mapper = gcs.get_mapper(zstore)\n",
    "\n",
    "    # open it using xarray and zarr\n",
    "    ds = xr.open_zarr(mapper, consolidated=True)\n",
    "    print(\"Size of this dataset:\", ds.nbytes/1e9,\"Gb\")\n",
    "\n",
    "    return ds\n",
    "\n",
    "ds = open_cmip6(df.iloc[0])\n",
    "ds"
   ]
  },
  {
   "cell_type": "markdown",
   "metadata": {},
   "source": [
    "### Play with it"
   ]
  },
  {
   "cell_type": "code",
   "execution_count": null,
   "metadata": {},
   "outputs": [],
   "source": [
    "# Compute size of the full df selection:\n",
    "total_size = 0 # Gb\n",
    "for index, row in df.iterrows():\n",
    "    ds = open_cmip6(row)\n",
    "    total_size += ds.nbytes/1e9\n",
    "print(\"Size of the selection of datasets:\", total_size, \"Gb\")    "
   ]
  },
  {
   "cell_type": "code",
   "execution_count": null,
   "metadata": {},
   "outputs": [],
   "source": [
    "sst = ds['thetao'].sel(lev=0, method='nearest')\n",
    "sst"
   ]
  },
  {
   "cell_type": "code",
   "execution_count": null,
   "metadata": {},
   "outputs": [],
   "source": [
    "sst.sel(time='1978-05-28T12:00:00', method='nearest').plot()"
   ]
  },
  {
   "cell_type": "code",
   "execution_count": null,
   "metadata": {},
   "outputs": [],
   "source": [
    "sst.where(sst['lat']>=0).where(sst['lon']>=360-275).sel(time='1978-05-28T12:00:00', method='nearest').plot(xlim=[0, 120], ylim=[140, 270])"
   ]
  },
  {
   "cell_type": "markdown",
   "metadata": {},
   "source": [
    "### Horizontal resolution of the grid"
   ]
  },
  {
   "cell_type": "code",
   "execution_count": null,
   "metadata": {},
   "outputs": [],
   "source": [
    "ds['lat'].isel(x=0).diff('y').plot()"
   ]
  },
  {
   "cell_type": "code",
   "execution_count": null,
   "metadata": {},
   "outputs": [],
   "source": [
    "ds['lon'].isel(y=0).diff('x').plot()"
   ]
  },
  {
   "cell_type": "markdown",
   "metadata": {},
   "source": [
    "## Connect to a cluster for large computation"
   ]
  },
  {
   "cell_type": "code",
   "execution_count": null,
   "metadata": {},
   "outputs": [],
   "source": [
    "import coiled\n",
    "from dask.distributed import Client\n",
    "# Connect to one of the existing class cluster: \n",
    "# cluster = coiled.Cluster(name=\"ds2-highmem-binder\", workspace=\"class-2025\")\n",
    "cluster = coiled.Cluster(name=\"ds2-highcpu-binder\", workspace=\"class-2025\")\n",
    "client = cluster.get_client()"
   ]
  },
  {
   "cell_type": "markdown",
   "metadata": {},
   "source": [
    "## Compute climatology"
   ]
  },
  {
   "cell_type": "code",
   "execution_count": null,
   "metadata": {},
   "outputs": [],
   "source": [
    "ds = open_cmip6(df.iloc[0])\n",
    "print(\"Size of this dataset:\", ds.nbytes/1e9,\"Gb\")"
   ]
  },
  {
   "cell_type": "code",
   "execution_count": null,
   "metadata": {},
   "outputs": [],
   "source": [
    "%%time\n",
    "t = ds['thetao'].sel(lev=700, method='nearest')\n",
    "# t = t.where(t['lat']>=30).where(t['lon']>=360-275)\n",
    "# t = t.where(t['time']>=pd.to_datetime('2100-01-01'))\n",
    "# t\n",
    "tm = t.mean(dim='time')\n",
    "tm"
   ]
  },
  {
   "cell_type": "code",
   "execution_count": null,
   "metadata": {},
   "outputs": [],
   "source": [
    "%%time\n",
    "\n",
    "# This should take about 9mins on ds2-highmem-binder and 4mins on ds2-highcpu-binder:\n",
    "tm = tm.compute().persist()\n",
    "tm"
   ]
  },
  {
   "cell_type": "code",
   "execution_count": null,
   "metadata": {},
   "outputs": [],
   "source": [
    "fig, proj, ax = create_map()\n",
    "tm.plot(transform=proj, x='lon', y='lat', ax=ax, \n",
    "        vmin=-2, vmax=15, levels=18, \n",
    "        cmap=mpl.colormaps.get_cmap('bwr'))\n",
    "# ax.gridlines(draw_labels=True)\n",
    "ax.add_feature(cfeature.LAND, facecolor=[0.7]*3, zorder=100)\n",
    "ax.set_title(\"Ocean temperature climatology at z=%0.1f m\" % tm['lev'].data)"
   ]
  },
  {
   "cell_type": "markdown",
   "metadata": {},
   "source": [
    "## Checkout a High resolution simulation"
   ]
  },
  {
   "cell_type": "code",
   "execution_count": null,
   "metadata": {},
   "outputs": [],
   "source": [
    "# df = df_full.query(\"activity_id=='CMIP' & table_id == 'Omon' & variable_id == 'thetao' & experiment_id == 'historical' & member_id == 'r1i1p1f1'\")\n",
    "df = df_full.query(\"activity_id=='CMIP' & table_id == 'Omon' & institution_id == 'CNRM-CERFACS' & experiment_id == 'historical'\")\n",
    "# df = df_full.query(\"activity_id=='CMIP' & table_id == 'Omon' & institution_id == 'CNRM-CERFACS' & experiment_id == 'piControl'\")\n",
    "# df = df_full.query(\"activity_id=='CMIP' & table_id == 'Omon' & institution_id == 'CNRM-CERFACS'\")\n",
    "# df = df_full.query('institution_id == \"CNRM-CERFACS\" & member_id==\"r1i1p1f2\" & source_id==\"CNRM-CM6-1\"')\n",
    "\n",
    "# df = df_full.query(\"activity_id=='CMIP' & table_id == 'Omon' & variable_id == 'thetao' & experiment_id == 'abrupt-4xCO2'\")\n",
    "\n",
    "# df = df.query(\"source_id=='CNRM-CM6-1-HR'\") # Horizontal resolution up to 1/4 deg\n",
    "df = df.query(\"source_id=='CNRM-CM6-1-HR' & variable_id=='thetao'\") # Horizontal resolution up to 1/4 deg\n",
    "# df = df.query(\"source_id=='CNRM-ESM2-1' & variable_id=='thetao'\") # Horizontal resolution up to 1deg\n",
    "# df = df.query(\"source_id=='CNRM-ESM2-1' & (variable_id=='thetao' | variable_id=='so')\") # Horizontal resolution up to 1deg\n",
    "\n",
    "# df = df.sort_values('version')\n",
    "df = df.sort_values('member_id')\n",
    "df"
   ]
  },
  {
   "cell_type": "code",
   "execution_count": null,
   "metadata": {},
   "outputs": [],
   "source": [
    "this_df = df[df['variable_id'] == 'thetao'].iloc[0]\n",
    "# this_df = df[df['experiment_id'] == 'piControl'].iloc[0]\n",
    "ds = open_cmip6(this_df)\n",
    "ds"
   ]
  },
  {
   "cell_type": "code",
   "execution_count": null,
   "metadata": {},
   "outputs": [],
   "source": [
    "%%time\n",
    "t = ds['thetao'].sel(lev=700, method='nearest')\n",
    "tm = t.mean(dim='time')\n",
    "tm = tm.compute().persist()\n",
    "tm"
   ]
  },
  {
   "cell_type": "code",
   "execution_count": null,
   "metadata": {},
   "outputs": [],
   "source": [
    "fig, proj, ax = create_map()\n",
    "# fig, proj, ax = create_map(extent=[-90, 0, 0, 80])\n",
    "tm.plot(transform=proj, x='lon', y='lat', ax=ax, \n",
    "        vmin=-2, vmax=15, levels=18, \n",
    "        cmap=mpl.colormaps.get_cmap('bwr'))\n",
    "# ax.gridlines(draw_labels=True)\n",
    "ax.add_feature(cfeature.LAND, facecolor=[0.7]*3, zorder=100)\n",
    "ax.set_title(\"Ocean temperature climatology at z=%0.1f m\" % tm['lev'].data)"
   ]
  },
  {
   "cell_type": "code",
   "execution_count": null,
   "metadata": {},
   "outputs": [],
   "source": []
  }
 ],
 "metadata": {
  "kernelspec": {
   "display_name": "Python 3 (ipykernel)",
   "language": "python",
   "name": "python3"
  },
  "language_info": {
   "codemirror_mode": {
    "name": "ipython",
    "version": 3
   },
   "file_extension": ".py",
   "mimetype": "text/x-python",
   "name": "python",
   "nbconvert_exporter": "python",
   "pygments_lexer": "ipython3",
   "version": "3.11.10"
  },
  "widgets": {
   "application/vnd.jupyter.widget-state+json": {
    "state": {},
    "version_major": 2,
    "version_minor": 0
   }
  }
 },
 "nbformat": 4,
 "nbformat_minor": 4
}
