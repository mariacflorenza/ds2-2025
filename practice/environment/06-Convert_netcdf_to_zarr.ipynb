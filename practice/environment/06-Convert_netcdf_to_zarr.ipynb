{
 "cells": [
  {
   "cell_type": "markdown",
   "metadata": {},
   "source": [
    "# Netcdf to zarr\n",
    "\n",
    "This notebook gives you example of netcdf files manipulation and conversion to zarr format\n",
    "\n",
    "**Cells are not meant to be run. These are examples to illustrate the file format conversions.**"
   ]
  },
  {
   "cell_type": "code",
   "execution_count": null,
   "metadata": {},
   "outputs": [],
   "source": [
    "import os\n",
    "import glob\n",
    "import xarray as xr"
   ]
  },
  {
   "cell_type": "code",
   "execution_count": null,
   "metadata": {},
   "outputs": [],
   "source": [
    "ncroot = os.path.expanduser('~/gmaze/git/github/gmaze/lopsdata/clustering/data/')\n",
    "ncfile = 'Global_Argo_VerticalMean_Temperature.nc'\n",
    "ds = xr.open_dataset(os.path.join(ncroot,ncfile))\n",
    "ds.to_zarr(os.path.join(ncroot,ncfile.replace('.nc','.zarr')))"
   ]
  },
  {
   "cell_type": "code",
   "execution_count": null,
   "metadata": {},
   "outputs": [],
   "source": [
    "ncroot = os.path.expanduser('~/gmaze/git/github/gmaze/lopsdata/clustering/data/')\n",
    "ncfiles = ['GLOB_HOMOGENEOUS_variables_3subset_1.nc','GLOB_HOMOGENEOUS_variables_3subset_2.nc']\n",
    "ds = xr.open_mfdataset([os.path.join(ncroot,i) for i in ncfiles])\n",
    "ds = ds.set_coords({'LATITUDE','LONGITUDE','TIME'})\n",
    "ds.attrs['subset_ID'] = '1-2'\n",
    "ds.attrs['creationDate'] = '2019/01/22 22:07:00'\n",
    "print(ds)\n",
    "ds.to_zarr(os.path.join(ncroot,'GLOB_HOMOGENEOUS_variables.zarr'))"
   ]
  },
  {
   "cell_type": "code",
   "execution_count": null,
   "metadata": {},
   "outputs": [],
   "source": [
    "ncroot = os.path.expanduser('~/data/SOMOVAR/WP3/kenneth/testcode/8.isas')\n",
    "ncfile = 'temp_20180611_try2.nc'\n",
    "ds = xr.open_dataset(os.path.join(ncroot,ncfile))\n",
    "print('This dataset holds: %.3f GB' % (ds.nbytes / 1e9))\n",
    "print(ds)\n",
    "ncroot = os.path.expanduser('~/gmaze/git/github/obidam/m2poc2019/data/')\n",
    "# ds.to_zarr(os.path.join(ncroot,ncfile.replace('.nc','.zarr')))"
   ]
  },
  {
   "cell_type": "code",
   "execution_count": null,
   "metadata": {},
   "outputs": [],
   "source": [
    "ncroot = os.path.expanduser('~/data/ARGO/copoda_db/setup_H/db_thd_config6_last/gmm')\n",
    "ncfiles = [\"NATL_HOMOGENEOUS_variables_7subset_%i.nc\"%(i+1) for i in range(6)]\n",
    "# print(ncfiles)\n",
    "ds = xr.open_mfdataset([os.path.join(ncroot,i) for i in ncfiles])\\\n",
    "    .chunk(chunks={'N_PROF':20000})\n",
    "print('This dataset holds: %.3f MB' % (ds.nbytes / 1e6))\n",
    "print(ds)\n",
    "ds.to_zarr(os.path.join(ncroot,ncfiles[0].replace('_7subset_1.nc','.zarr')))"
   ]
  },
  {
   "cell_type": "code",
   "execution_count": null,
   "metadata": {},
   "outputs": [],
   "source": [
    "ncroot = os.path.expanduser('~/data/ARGO/copoda_db/setup_H/db_thd_config6_last/gmm')\n",
    "ncfiles = [\"NATL_HOMOGENEOUS_variables_7subset_%i.nc\"%(i+1) for i in range(7)]\n",
    "# print(ncfiles)\n",
    "ds = xr.open_mfdataset([os.path.join(ncroot,i) for i in ncfiles])\\\n",
    "    .chunk(chunks={'N_PROF':20000})\n",
    "print('This dataset holds: %.3f MB' % (ds.nbytes / 1e6))\n",
    "print(ds)\n",
    "ds.to_zarr(os.path.join(ncroot,ncfiles[0].replace('_7subset_1.nc','_all.zarr')))"
   ]
  }
 ],
 "metadata": {
  "kernelspec": {
   "display_name": "AOS",
   "language": "python",
   "name": "aos"
  },
  "language_info": {
   "codemirror_mode": {
    "name": "ipython",
    "version": 3
   },
   "file_extension": ".py",
   "mimetype": "text/x-python",
   "name": "python",
   "nbconvert_exporter": "python",
   "pygments_lexer": "ipython3",
   "version": "3.10.4"
  },
  "widgets": {
   "application/vnd.jupyter.widget-state+json": {
    "state": {},
    "version_major": 2,
    "version_minor": 0
   }
  }
 },
 "nbformat": 4,
 "nbformat_minor": 4
}
