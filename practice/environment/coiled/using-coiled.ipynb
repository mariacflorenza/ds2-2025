{
 "cells": [
  {
   "cell_type": "code",
   "execution_count": 1,
   "id": "8324566b-119e-4f7f-9b65-4b8d8841c6f2",
   "metadata": {
    "ExecuteTime": {
     "end_time": "2024-12-02T10:17:15.815268Z",
     "start_time": "2024-12-02T10:17:12.014249Z"
    }
   },
   "outputs": [],
   "source": [
    "import coiled\n",
    "from dask.distributed import Client"
   ]
  },
  {
   "cell_type": "code",
   "execution_count": 2,
   "id": "1cb445e3586916a2",
   "metadata": {
    "ExecuteTime": {
     "start_time": "2024-12-02T10:18:14.759195Z"
    }
   },
   "outputs": [
    {
     "name": "stderr",
     "output_type": "stream",
     "text": [
      "Using adaptive scaling with default range of `[4, 20]`. To manually control the size of your cluster, use n_workers=.\n",
      "\n"
     ]
    },
    {
     "data": {
      "application/vnd.jupyter.widget-view+json": {
       "model_id": "07ae8d572f754780ae2a235ed1d5a934",
       "version_major": 2,
       "version_minor": 0
      },
      "text/plain": [
       "Output()"
      ]
     },
     "metadata": {},
     "output_type": "display_data"
    },
    {
     "data": {
      "text/html": [
       "<pre style=\"white-space:pre;overflow-x:auto;line-height:normal;font-family:Menlo,'DejaVu Sans Mono',consolas,'Courier New',monospace\"></pre>\n"
      ],
      "text/plain": []
     },
     "metadata": {},
     "output_type": "display_data"
    },
    {
     "name": "stderr",
     "output_type": "stream",
     "text": [
      "Could not get token from client GCP session. This is not a concern unless you're planning to use forwarded GCP credentials on your cluster. The error was: ('invalid_grant: Bad Request', {'error': 'invalid_grant', 'error_description': 'Bad Request'})\n"
     ]
    }
   ],
   "source": [
    "# Connect to cluster: \n",
    "cluster = coiled.Cluster(name=\"ds2-highcpu\")\n",
    "client = cluster.get_client()"
   ]
  },
  {
   "cell_type": "code",
   "execution_count": 3,
   "id": "b4b68301-7e95-40a0-b1c7-a126f5062a10",
   "metadata": {},
   "outputs": [],
   "source": [
    "import dask.array as da\n",
    "x = da.random.normal(10, 0.1, size=(20000,20000), chunks= (1000,1000))\n",
    "y = x.mean(axis=0)[::100]\n",
    "y.compute();"
   ]
  }
 ],
 "metadata": {
  "kernelspec": {
   "display_name": "ds2-coiled-2025",
   "language": "python",
   "name": "ds2-coiled-2025"
  },
  "language_info": {
   "codemirror_mode": {
    "name": "ipython",
    "version": 3
   },
   "file_extension": ".py",
   "mimetype": "text/x-python",
   "name": "python",
   "nbconvert_exporter": "python",
   "pygments_lexer": "ipython3",
   "version": "3.11.10"
  },
  "widgets": {
   "application/vnd.jupyter.widget-state+json": {
    "state": {
     "07ae8d572f754780ae2a235ed1d5a934": {
      "model_module": "@jupyter-widgets/output",
      "model_module_version": "1.0.0",
      "model_name": "OutputModel",
      "state": {
       "layout": "IPY_MODEL_0b5bf15ab687440094fbf3a2d0ce1fdf",
       "outputs": [
        {
         "data": {
          "text/html": "<pre style=\"white-space:pre;overflow-x:auto;line-height:normal;font-family:Menlo,'DejaVu Sans Mono',consolas,'Courier New',monospace\">╭─────────────────────────────── <span style=\"color: #008000; text-decoration-color: #008000; font-weight: bold\">Coiled Cluster</span> ───────────────────────────────╮\n│             <a href=\"https://cloud.coiled.io/clusters/682647?account=ds2\" target=\"_blank\">https://cloud.coiled.io/clusters/682647?account=ds2</a>              │\n╰──────────────────────────────────────────────────────────────────────────────╯\n╭────────────── Overview ──────────────╮╭─────────── Configuration ────────────╮\n│                                      ││                                      │\n│ <span style=\"color: #008000; text-decoration-color: #008000; font-weight: bold\">Name:</span> ds2-highcpu                    ││ <span style=\"color: #008000; text-decoration-color: #008000; font-weight: bold\">Region:</span> us-east1 (us-central1-b)     │\n│                                      ││                                      │\n│ <span style=\"color: #008000; text-decoration-color: #008000; font-weight: bold\">Env:</span> ds2-coiled-2025                 ││ <span style=\"color: #008000; text-decoration-color: #008000; font-weight: bold\">Scheduler:</span> n1-highmem-2              │\n│                                      ││                                      │\n│ <span style=\"color: #008000; text-decoration-color: #008000; font-weight: bold\">Scheduler Status:</span> started            ││ <span style=\"color: #008000; text-decoration-color: #008000; font-weight: bold\">Workers:</span>   n1-highcpu-32 (4)         │\n│                                      ││                                      │\n│ <span style=\"color: #008000; text-decoration-color: #008000; font-weight: bold\">Dashboard:</span>                           ││ <span style=\"color: #008000; text-decoration-color: #008000; font-weight: bold\">Workers Requested:</span> 4                 │\n│ <a href=\"https://cluster-shwnn.dask.host?token=WGUJkBuKqnvy78FN\" target=\"_blank\">https://cluster-shwnn.dask.host?toke</a> ││                                      │\n╰──────────────────────────────────────╯╰──────────────────────────────────────╯\n╭───────────────────────── (2024/12/10 10:14:29 CET) ──────────────────────────╮\n│                                                                              │\n│                              All workers ready.                              │\n│                                                                              │\n│                                                                              │\n╰──────────────────────────────────────────────────────────────────────────────╯\n\n\n\n</pre>\n",
          "text/plain": "╭─────────────────────────────── \u001b[1;51;32mCoiled Cluster\u001b[0m ───────────────────────────────╮\n│             \u001b]8;id=234520;https://cloud.coiled.io/clusters/682647?account=ds2\u001b\\https://cloud.coiled.io/clusters/682647?account=ds2\u001b]8;;\u001b\\              │\n╰──────────────────────────────────────────────────────────────────────────────╯\n╭────────────── Overview ──────────────╮╭─────────── Configuration ────────────╮\n│                                      ││                                      │\n│ \u001b[1;32mName:\u001b[0m ds2-highcpu                    ││ \u001b[1;32mRegion:\u001b[0m us-east1 (us-central1-b)     │\n│                                      ││                                      │\n│ \u001b[1;32mEnv:\u001b[0m ds2-coiled-2025                 ││ \u001b[1;32mScheduler:\u001b[0m n1-highmem-2              │\n│                                      ││                                      │\n│ \u001b[1;32mScheduler Status:\u001b[0m started            ││ \u001b[1;32mWorkers:\u001b[0m   n1-highcpu-32 (4)         │\n│                                      ││                                      │\n│ \u001b[1;32mDashboard:\u001b[0m                           ││ \u001b[1;32mWorkers Requested:\u001b[0m 4                 │\n│ \u001b]8;id=377702;https://cluster-shwnn.dask.host?token=WGUJkBuKqnvy78FN\u001b\\https://cluster-shwnn.dask.host?toke\u001b]8;;\u001b\\ ││                                      │\n╰──────────────────────────────────────╯╰──────────────────────────────────────╯\n╭───────────────────────── (2024/12/10 10:14:29 CET) ──────────────────────────╮\n│                                                                              │\n│                              All workers ready.                              │\n│                                                                              │\n│                                                                              │\n╰──────────────────────────────────────────────────────────────────────────────╯\n\n\n\n"
         },
         "metadata": {},
         "output_type": "display_data"
        }
       ]
      }
     },
     "0b5bf15ab687440094fbf3a2d0ce1fdf": {
      "model_module": "@jupyter-widgets/base",
      "model_module_version": "2.0.0",
      "model_name": "LayoutModel",
      "state": {}
     }
    },
    "version_major": 2,
    "version_minor": 0
   }
  }
 },
 "nbformat": 4,
 "nbformat_minor": 5
}
