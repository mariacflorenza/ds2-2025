{
 "cells": [
  {
   "cell_type": "code",
   "execution_count": 1,
   "id": "8324566b-119e-4f7f-9b65-4b8d8841c6f2",
   "metadata": {},
   "outputs": [],
   "source": [
    "import coiled\n",
    "from dask.distributed import Client"
   ]
  },
  {
   "cell_type": "code",
   "execution_count": null,
   "id": "901b2d1c-7d3e-48ca-8366-cbc24f6cfe14",
   "metadata": {},
   "outputs": [],
   "source": [
    "coiled.list_software_environments()"
   ]
  },
  {
   "cell_type": "code",
   "execution_count": null,
   "id": "dc83de87-52a2-4213-b948-a3621aadd343",
   "metadata": {},
   "outputs": [],
   "source": [
    "# coiled.delete_software_environment(name=\"ds2-coiled\")\n",
    "coiled.create_software_environment(\n",
    "    name=\"ds2-coiled\",\n",
    "    conda=\"/Users/gmaze/git/github/obidam/ds2-2025/practice/environment/coiled/environment-coiled.yml\",\n",
    ")"
   ]
  },
  {
   "cell_type": "code",
   "execution_count": 2,
   "id": "91beedd7-742d-4a4e-873b-66e8d6bfb8be",
   "metadata": {},
   "outputs": [
    {
     "data": {
      "application/vnd.jupyter.widget-view+json": {
       "model_id": "47c4dd72d81b4b4faff53e5c952c5636",
       "version_major": 2,
       "version_minor": 0
      },
      "text/plain": [
       "Output()"
      ]
     },
     "metadata": {},
     "output_type": "display_data"
    },
    {
     "data": {
      "text/html": [
       "<pre style=\"white-space:pre;overflow-x:auto;line-height:normal;font-family:Menlo,'DejaVu Sans Mono',consolas,'Courier New',monospace\"></pre>\n"
      ],
      "text/plain": []
     },
     "metadata": {},
     "output_type": "display_data"
    },
    {
     "data": {
      "text/html": [
       "<pre style=\"white-space:pre;overflow-x:auto;line-height:normal;font-family:Menlo,'DejaVu Sans Mono',consolas,'Courier New',monospace\">╭──────────────────────────────── <span style=\"color: #008000; text-decoration-color: #008000; font-weight: bold\">Package Info</span> ────────────────────────────────╮\n",
       "│                       ╷                                                      │\n",
       "│  <span style=\"font-weight: bold\"> Package             </span>│<span style=\"font-weight: bold\"> Note                                               </span>  │\n",
       "│ ╶─────────────────────┼────────────────────────────────────────────────────╴ │\n",
       "│   coiled_local_argopy │ Source wheel built from                              │\n",
       "│                       │ ~/git/github/euroargodev/argopy                      │\n",
       "│                       ╵                                                      │\n",
       "╰──────────────────────────────────────────────────────────────────────────────╯\n",
       "</pre>\n"
      ],
      "text/plain": [
       "╭──────────────────────────────── \u001b[1;32mPackage Info\u001b[0m ────────────────────────────────╮\n",
       "│                       ╷                                                      │\n",
       "│  \u001b[1m \u001b[0m\u001b[1mPackage            \u001b[0m\u001b[1m \u001b[0m│\u001b[1m \u001b[0m\u001b[1mNote                                              \u001b[0m\u001b[1m \u001b[0m  │\n",
       "│ ╶─────────────────────┼────────────────────────────────────────────────────╴ │\n",
       "│   coiled_local_argopy │ Source wheel built from                              │\n",
       "│                       │ ~/git/github/euroargodev/argopy                      │\n",
       "│                       ╵                                                      │\n",
       "╰──────────────────────────────────────────────────────────────────────────────╯\n"
      ]
     },
     "metadata": {},
     "output_type": "display_data"
    },
    {
     "data": {
      "application/vnd.jupyter.widget-view+json": {
       "model_id": "f00afdbe84c847ab81e0ab3de99a01d3",
       "version_major": 2,
       "version_minor": 0
      },
      "text/plain": [
       "Output()"
      ]
     },
     "metadata": {},
     "output_type": "display_data"
    },
    {
     "data": {
      "text/html": [
       "<pre style=\"white-space:pre;overflow-x:auto;line-height:normal;font-family:Menlo,'DejaVu Sans Mono',consolas,'Courier New',monospace\"></pre>\n"
      ],
      "text/plain": []
     },
     "metadata": {},
     "output_type": "display_data"
    },
    {
     "name": "stderr",
     "output_type": "stream",
     "text": [
      "Could not get token from client GCP session. This is not a concern unless you're planning to use forwarded GCP credentials on your cluster. The error was: ('invalid_grant: Bad Request', {'error': 'invalid_grant', 'error_description': 'Bad Request'})\n"
     ]
    }
   ],
   "source": [
    "# # Will request 138 CPUs = 2*68 (workers) + 2 (scheduler):\n",
    "# cluster = coiled.Cluster(n_workers=68, \n",
    "#                          name='ds2-cluster-largest', \n",
    "#                          # workspace='IUEM Data Science',\n",
    "#                          scheduler_vm_types=['n1-standard-2'],   \n",
    "#                          worker_vm_types=['n1-standard-2'],\n",
    "#                          scheduler_options={\"idle_timeout\": \"1 hours\"},\n",
    "#                          shutdown_on_close=True,\n",
    "#                          use_best_zone=True, \n",
    "#                          spot_policy=\"spot_with_fallback\",\n",
    "#                         )\n",
    "\n",
    "# Will request 64 CPUs = 2*31 (workers) + 2 (scheduler):\n",
    "cluster = coiled.Cluster(n_workers=31, \n",
    "                         name='ds2-cluster-largest', \n",
    "                         # workspace='IUEM Data Science',\n",
    "                         scheduler_vm_types=['n1-standard-2'],   \n",
    "                         worker_vm_types=['n1-standard-2'],\n",
    "                         scheduler_options={\"idle_timeout\": \"1 hours\"},\n",
    "                         shutdown_on_close=True,\n",
    "                         use_best_zone=True, \n",
    "                         spot_policy=\"spot_with_fallback\",\n",
    "                        )"
   ]
  },
  {
   "cell_type": "code",
   "execution_count": 5,
   "id": "b320af6a-b8fd-4df8-8085-2e02e5d675ec",
   "metadata": {},
   "outputs": [],
   "source": []
  },
  {
   "cell_type": "code",
   "execution_count": 6,
   "id": "b4b68301-7e95-40a0-b1c7-a126f5062a10",
   "metadata": {},
   "outputs": [],
   "source": [
    "import dask.array as da\n",
    "x = da.random.normal(10, 0.1, size=(20000,20000), chunks= (1000,1000))\n",
    "y = x.mean(axis=0)[::100]\n",
    "y.compute();"
   ]
  },
  {
   "cell_type": "code",
   "execution_count": 8,
   "id": "f6d86252-c85c-4945-91e1-c31a9b1243d3",
   "metadata": {},
   "outputs": [
    {
     "name": "stderr",
     "output_type": "stream",
     "text": [
      "/Users/gmaze/miniconda3/envs/ds2-coiled-2025/lib/python3.11/site-packages/pyproj/network.py:59: UserWarning: pyproj unable to set PROJ database path.\n",
      "  _set_context_ca_bundle_path(ca_bundle_path)\n"
     ]
    }
   ],
   "source": [
    "import argopy"
   ]
  },
  {
   "cell_type": "code",
   "execution_count": 16,
   "id": "4bfb5758-7f35-4e29-9d9a-ab3bf61e8596",
   "metadata": {},
   "outputs": [
    {
     "name": "stdout",
     "output_type": "stream",
     "text": [
      "70\n",
      "CPU times: user 2.76 s, sys: 400 ms, total: 3.16 s\n",
      "Wall time: 1min 39s\n"
     ]
    }
   ],
   "source": [
    "%%time\n",
    "with argopy.set_options(parallel=client, api_timeout=120):\n",
    "    f = argopy.DataFetcher(src='argovis', chunks_maxsize={'dpt': 100}).region([-75, -70, 25, 40, 0, 1000, '2020-01-01', '2021-01-01'])\n",
    "    print(len(f.uri))\n",
    "    ds = f.load().data"
   ]
  },
  {
   "cell_type": "code",
   "execution_count": null,
   "id": "7203ca8d-afe5-45ef-8f94-6b6c1e5b8eb4",
   "metadata": {},
   "outputs": [],
   "source": []
  }
 ],
 "metadata": {
  "kernelspec": {
   "display_name": "ds2-coiled-2025",
   "language": "python",
   "name": "ds2-coiled-2025"
  },
  "language_info": {
   "codemirror_mode": {
    "name": "ipython",
    "version": 3
   },
   "file_extension": ".py",
   "mimetype": "text/x-python",
   "name": "python",
   "nbconvert_exporter": "python",
   "pygments_lexer": "ipython3",
   "version": "3.11.10"
  },
  "widgets": {
   "application/vnd.jupyter.widget-state+json": {
    "state": {
     "2001f726de604c8e9b187a34090947f3": {
      "model_module": "@jupyter-widgets/base",
      "model_module_version": "2.0.0",
      "model_name": "LayoutModel",
      "state": {}
     },
     "2420c66579a044d9a5a5fd21747521f7": {
      "model_module": "@jupyter-widgets/base",
      "model_module_version": "2.0.0",
      "model_name": "LayoutModel",
      "state": {}
     },
     "47c4dd72d81b4b4faff53e5c952c5636": {
      "model_module": "@jupyter-widgets/output",
      "model_module_version": "1.0.0",
      "model_name": "OutputModel",
      "state": {
       "layout": "IPY_MODEL_c4bd0649762847bd871c0b9b6b10671f",
       "outputs": [
        {
         "data": {
          "text/html": "<pre style=\"white-space:pre;overflow-x:auto;line-height:normal;font-family:Menlo,'DejaVu Sans Mono',consolas,'Courier New',monospace\">╭────────────────────── <span style=\"color: #008000; text-decoration-color: #008000\">Package Sync for ds2-coiled-2025</span> ──────────────────────╮\n│ Fetching latest package priorities                 <span style=\"color: #729c1f; text-decoration-color: #729c1f\">━━━━━━━━━━━━━━━━━</span> <span style=\"color: #808000; text-decoration-color: #808000\">0:00:00</span> │\n│ Scanning 315 conda packages                        <span style=\"color: #3a3a3a; text-decoration-color: #3a3a3a\">━━━━━━━━━━━━━━━━━</span> <span style=\"color: #808000; text-decoration-color: #808000\">0:00:05</span> │\n│ Scanning 247 python packages                       <span style=\"color: #3a3a3a; text-decoration-color: #3a3a3a\">━━━━━━━━━━━━━━━━━</span> <span style=\"color: #808000; text-decoration-color: #808000\">0:00:05</span> │\n│ Running pip check                                  <span style=\"color: #729c1f; text-decoration-color: #729c1f\">━━━━━━━━━━━━━━━━━</span> <span style=\"color: #808000; text-decoration-color: #808000\">0:00:01</span> │\n│ Validating environment                             <span style=\"color: #729c1f; text-decoration-color: #729c1f\">━━━━━━━━━━━━━━━━━</span> <span style=\"color: #808000; text-decoration-color: #808000\">0:00:02</span> │\n│ Creating wheel for ~/git/github/euroargodev/argopy <span style=\"color: #729c1f; text-decoration-color: #729c1f\">━━━━━━━━━━━━━━━━━</span> <span style=\"color: #808000; text-decoration-color: #808000\">0:00:00</span> │\n│ Uploading coiled_local_argopy                      <span style=\"color: #729c1f; text-decoration-color: #729c1f\">━━━━━━━━━━━━━━━━━</span> <span style=\"color: #808000; text-decoration-color: #808000\">0:00:00</span> │\n│ Requesting package sync build                      <span style=\"color: #3a3a3a; text-decoration-color: #3a3a3a\">━━━━━━━━━━━━━━━━━</span> <span style=\"color: #808000; text-decoration-color: #808000\">0:00:00</span> │\n╰──────────────────────────────────────────────────────────────────────────────╯\n</pre>\n",
          "text/plain": "╭────────────────────── \u001b[32mPackage Sync for ds2-coiled-2025\u001b[0m ──────────────────────╮\n│ Fetching latest package priorities                 \u001b[38;2;114;156;31m━━━━━━━━━━━━━━━━━\u001b[0m \u001b[33m0:00:00\u001b[0m │\n│ Scanning 315 conda packages                        \u001b[38;5;237m━━━━━━━━━━━━━━━━━\u001b[0m \u001b[33m0:00:05\u001b[0m │\n│ Scanning 247 python packages                       \u001b[38;5;237m━━━━━━━━━━━━━━━━━\u001b[0m \u001b[33m0:00:05\u001b[0m │\n│ Running pip check                                  \u001b[38;2;114;156;31m━━━━━━━━━━━━━━━━━\u001b[0m \u001b[33m0:00:01\u001b[0m │\n│ Validating environment                             \u001b[38;2;114;156;31m━━━━━━━━━━━━━━━━━\u001b[0m \u001b[33m0:00:02\u001b[0m │\n│ Creating wheel for ~/git/github/euroargodev/argopy \u001b[38;2;114;156;31m━━━━━━━━━━━━━━━━━\u001b[0m \u001b[33m0:00:00\u001b[0m │\n│ Uploading coiled_local_argopy                      \u001b[38;2;114;156;31m━━━━━━━━━━━━━━━━━\u001b[0m \u001b[33m0:00:00\u001b[0m │\n│ Requesting package sync build                      \u001b[38;5;237m━━━━━━━━━━━━━━━━━\u001b[0m \u001b[33m0:00:00\u001b[0m │\n╰──────────────────────────────────────────────────────────────────────────────╯\n"
         },
         "metadata": {},
         "output_type": "display_data"
        }
       ]
      }
     },
     "c4bd0649762847bd871c0b9b6b10671f": {
      "model_module": "@jupyter-widgets/base",
      "model_module_version": "2.0.0",
      "model_name": "LayoutModel",
      "state": {}
     },
     "d71feff57ad0497caf947bc55ad95927": {
      "model_module": "@jupyter-widgets/output",
      "model_module_version": "1.0.0",
      "model_name": "OutputModel",
      "state": {
       "layout": "IPY_MODEL_2001f726de604c8e9b187a34090947f3",
       "outputs": [
        {
         "data": {
          "text/html": "<pre style=\"white-space:pre;overflow-x:auto;line-height:normal;font-family:Menlo,'DejaVu Sans Mono',consolas,'Courier New',monospace\">╭─────────────────────────────── <span style=\"color: #008000; text-decoration-color: #008000; font-weight: bold\">Coiled Cluster</span> ───────────────────────────────╮\n│            <a href=\"https://cloud.coiled.io/clusters/671452?account=obidam\" target=\"_blank\">https://cloud.coiled.io/clusters/671452?account=obidam</a>            │\n╰──────────────────────────────────────────────────────────────────────────────╯\n╭────────────── Overview ──────────────╮╭─────────── Configuration ────────────╮\n│                                      ││                                      │\n│ <span style=\"color: #008000; text-decoration-color: #008000; font-weight: bold\">Name:</span> ds2-cluster-largest            ││ <span style=\"color: #008000; text-decoration-color: #008000; font-weight: bold\">Region:</span> us-east1                     │\n│                                      ││                                      │\n│ <span style=\"color: #008000; text-decoration-color: #008000; font-weight: bold\">Scheduler Status:</span> started            ││ <span style=\"color: #008000; text-decoration-color: #008000; font-weight: bold\">Scheduler:</span> n1-standard-2             │\n│                                      ││                                      │\n│ <span style=\"color: #008000; text-decoration-color: #008000; font-weight: bold\">Dashboard:</span>                           ││ <span style=\"color: #008000; text-decoration-color: #008000; font-weight: bold\">Workers:</span>   n1-standard-2 (31)        │\n│ <a href=\"https://cluster-aqohc.dask.host?token=7hXmWJeUnrAASwaC\" target=\"_blank\">https://cluster-aqohc.dask.host?toke</a> ││                                      │\n│ <a href=\"https://cluster-aqohc.dask.host?token=7hXmWJeUnrAASwaC\" target=\"_blank\">n=7hXmWJeUnrAASwaC</a>                   ││ <span style=\"color: #008000; text-decoration-color: #008000; font-weight: bold\">Workers Requested:</span> 31                │\n│                                      ││                                      │\n╰──────────────────────────────────────╯╰──────────────────────────────────────╯\n╭──────────────── Dask Worker States (2024/11/29 10:11:17 CET) ────────────────╮\n│     Provisioning            <span style=\"color: #3a3a3a; text-decoration-color: #3a3a3a\">━━━━━━━━━━━━━━━━━━━━━━━━━━━━━━━━━━━━━━━━</span> <span style=\"color: #800080; text-decoration-color: #800080\">0</span>       │\n│     Booting Instance        <span style=\"color: #3a3a3a; text-decoration-color: #3a3a3a\">━━━━━━━━━━━━━━━━━━━━━━━━━━━━━━━━━━━━━━━━</span> <span style=\"color: #800080; text-decoration-color: #800080\">0</span>       │\n│     Downloading environment <span style=\"color: #3a3a3a; text-decoration-color: #3a3a3a\">━━━━━━━━━━━━━━━━━━━━━━━━━━━━━━━━━━━━━━━━</span> <span style=\"color: #800080; text-decoration-color: #800080\">0</span>       │\n│     Ready                   <span style=\"color: #729c1f; text-decoration-color: #729c1f\">━━━━━━━━━━━━━━━━━━━━━━━━━━━━━━━━━━━━━━━━</span> <span style=\"color: #800080; text-decoration-color: #800080\">31</span>      │\n│     Stopping                <span style=\"color: #3a3a3a; text-decoration-color: #3a3a3a\">━━━━━━━━━━━━━━━━━━━━━━━━━━━━━━━━━━━━━━━━</span> <span style=\"color: #800080; text-decoration-color: #800080\">0</span>       │\n│     Stopped                 <span style=\"color: #3a3a3a; text-decoration-color: #3a3a3a\">━━━━━━━━━━━━━━━━━━━━━━━━━━━━━━━━━━━━━━━━</span> <span style=\"color: #800080; text-decoration-color: #800080\">0</span>       │\n│                                                                              │\n╰──────────────────────────────────────────────────────────────────────────────╯\n\n\n\n</pre>\n",
          "text/plain": "╭─────────────────────────────── \u001b[1;51;32mCoiled Cluster\u001b[0m ───────────────────────────────╮\n│            \u001b]8;id=802071;https://cloud.coiled.io/clusters/671452?account=obidam\u001b\\https://cloud.coiled.io/clusters/671452?account=obidam\u001b]8;;\u001b\\            │\n╰──────────────────────────────────────────────────────────────────────────────╯\n╭────────────── Overview ──────────────╮╭─────────── Configuration ────────────╮\n│                                      ││                                      │\n│ \u001b[1;32mName:\u001b[0m ds2-cluster-largest            ││ \u001b[1;32mRegion:\u001b[0m us-east1                     │\n│                                      ││                                      │\n│ \u001b[1;32mScheduler Status:\u001b[0m started            ││ \u001b[1;32mScheduler:\u001b[0m n1-standard-2             │\n│                                      ││                                      │\n│ \u001b[1;32mDashboard:\u001b[0m                           ││ \u001b[1;32mWorkers:\u001b[0m   n1-standard-2 (31)        │\n│ \u001b]8;id=650494;https://cluster-aqohc.dask.host?token=7hXmWJeUnrAASwaC\u001b\\https://cluster-aqohc.dask.host?toke\u001b]8;;\u001b\\ ││                                      │\n│ \u001b]8;id=650494;https://cluster-aqohc.dask.host?token=7hXmWJeUnrAASwaC\u001b\\n=7hXmWJeUnrAASwaC\u001b]8;;\u001b\\                   ││ \u001b[1;32mWorkers Requested:\u001b[0m 31                │\n│                                      ││                                      │\n╰──────────────────────────────────────╯╰──────────────────────────────────────╯\n╭──────────────── Dask Worker States (2024/11/29 10:11:17 CET) ────────────────╮\n│     Provisioning            \u001b[38;5;237m━━━━━━━━━━━━━━━━━━━━━━━━━━━━━━━━━━━━━━━━\u001b[0m \u001b[35m0\u001b[0m       │\n│     Booting Instance        \u001b[38;5;237m━━━━━━━━━━━━━━━━━━━━━━━━━━━━━━━━━━━━━━━━\u001b[0m \u001b[35m0\u001b[0m       │\n│     Downloading environment \u001b[38;5;237m━━━━━━━━━━━━━━━━━━━━━━━━━━━━━━━━━━━━━━━━\u001b[0m \u001b[35m0\u001b[0m       │\n│     Ready                   \u001b[38;2;114;156;31m━━━━━━━━━━━━━━━━━━━━━━━━━━━━━━━━━━━━━━━━\u001b[0m \u001b[35m31\u001b[0m      │\n│     Stopping                \u001b[38;5;237m━━━━━━━━━━━━━━━━━━━━━━━━━━━━━━━━━━━━━━━━\u001b[0m \u001b[35m0\u001b[0m       │\n│     Stopped                 \u001b[38;5;237m━━━━━━━━━━━━━━━━━━━━━━━━━━━━━━━━━━━━━━━━\u001b[0m \u001b[35m0\u001b[0m       │\n│                                                                              │\n╰──────────────────────────────────────────────────────────────────────────────╯\n\n\n\n"
         },
         "metadata": {},
         "output_type": "display_data"
        }
       ]
      }
     },
     "f00afdbe84c847ab81e0ab3de99a01d3": {
      "model_module": "@jupyter-widgets/output",
      "model_module_version": "1.0.0",
      "model_name": "OutputModel",
      "state": {
       "layout": "IPY_MODEL_2420c66579a044d9a5a5fd21747521f7",
       "outputs": [
        {
         "data": {
          "text/html": "<pre style=\"white-space:pre;overflow-x:auto;line-height:normal;font-family:Menlo,'DejaVu Sans Mono',consolas,'Courier New',monospace\">╭─────────────────────────────── <span style=\"color: #008000; text-decoration-color: #008000; font-weight: bold\">Coiled Cluster</span> ───────────────────────────────╮\n│            <a href=\"https://cloud.coiled.io/clusters/671452?account=obidam\" target=\"_blank\">https://cloud.coiled.io/clusters/671452?account=obidam</a>            │\n╰──────────────────────────────────────────────────────────────────────────────╯\n╭────────────── Overview ──────────────╮╭─────────── Configuration ────────────╮\n│                                      ││                                      │\n│ <span style=\"color: #008000; text-decoration-color: #008000; font-weight: bold\">Name:</span> ds2-cluster-largest            ││ <span style=\"color: #008000; text-decoration-color: #008000; font-weight: bold\">Region:</span> us-east1                     │\n│                                      ││                                      │\n│ <span style=\"color: #008000; text-decoration-color: #008000; font-weight: bold\">Scheduler Status:</span> started            ││ <span style=\"color: #008000; text-decoration-color: #008000; font-weight: bold\">Scheduler:</span> n1-standard-2             │\n│                                      ││                                      │\n│ <span style=\"color: #008000; text-decoration-color: #008000; font-weight: bold\">Dashboard:</span>                           ││ <span style=\"color: #008000; text-decoration-color: #008000; font-weight: bold\">Workers:</span>   n1-standard-2 (31)        │\n│ <a href=\"https://cluster-aqohc.dask.host?token=7hXmWJeUnrAASwaC\" target=\"_blank\">https://cluster-aqohc.dask.host?toke</a> ││                                      │\n│ <a href=\"https://cluster-aqohc.dask.host?token=7hXmWJeUnrAASwaC\" target=\"_blank\">n=7hXmWJeUnrAASwaC</a>                   ││ <span style=\"color: #008000; text-decoration-color: #008000; font-weight: bold\">Workers Requested:</span> 31                │\n│                                      ││                                      │\n╰──────────────────────────────────────╯╰──────────────────────────────────────╯\n╭───────────────────────── (2024/11/29 10:11:09 CET) ──────────────────────────╮\n│                                                                              │\n│                              All workers ready.                              │\n│                                                                              │\n│                                                                              │\n╰──────────────────────────────────────────────────────────────────────────────╯\n\n\n\n</pre>\n",
          "text/plain": "╭─────────────────────────────── \u001b[1;51;32mCoiled Cluster\u001b[0m ───────────────────────────────╮\n│            \u001b]8;id=724063;https://cloud.coiled.io/clusters/671452?account=obidam\u001b\\https://cloud.coiled.io/clusters/671452?account=obidam\u001b]8;;\u001b\\            │\n╰──────────────────────────────────────────────────────────────────────────────╯\n╭────────────── Overview ──────────────╮╭─────────── Configuration ────────────╮\n│                                      ││                                      │\n│ \u001b[1;32mName:\u001b[0m ds2-cluster-largest            ││ \u001b[1;32mRegion:\u001b[0m us-east1                     │\n│                                      ││                                      │\n│ \u001b[1;32mScheduler Status:\u001b[0m started            ││ \u001b[1;32mScheduler:\u001b[0m n1-standard-2             │\n│                                      ││                                      │\n│ \u001b[1;32mDashboard:\u001b[0m                           ││ \u001b[1;32mWorkers:\u001b[0m   n1-standard-2 (31)        │\n│ \u001b]8;id=588460;https://cluster-aqohc.dask.host?token=7hXmWJeUnrAASwaC\u001b\\https://cluster-aqohc.dask.host?toke\u001b]8;;\u001b\\ ││                                      │\n│ \u001b]8;id=588460;https://cluster-aqohc.dask.host?token=7hXmWJeUnrAASwaC\u001b\\n=7hXmWJeUnrAASwaC\u001b]8;;\u001b\\                   ││ \u001b[1;32mWorkers Requested:\u001b[0m 31                │\n│                                      ││                                      │\n╰──────────────────────────────────────╯╰──────────────────────────────────────╯\n╭───────────────────────── (2024/11/29 10:11:09 CET) ──────────────────────────╮\n│                                                                              │\n│                              All workers ready.                              │\n│                                                                              │\n│                                                                              │\n╰──────────────────────────────────────────────────────────────────────────────╯\n\n\n\n"
         },
         "metadata": {},
         "output_type": "display_data"
        }
       ]
      }
     }
    },
    "version_major": 2,
    "version_minor": 0
   }
  }
 },
 "nbformat": 4,
 "nbformat_minor": 5
}
