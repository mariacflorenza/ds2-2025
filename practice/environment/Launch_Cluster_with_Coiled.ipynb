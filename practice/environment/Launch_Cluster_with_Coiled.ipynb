{
 "cells": [
  {
   "cell_type": "markdown",
   "id": "cb9ca19e-5cfc-4940-ac4a-dac9838705c2",
   "metadata": {
    "ExecuteTime": {
     "end_time": "2024-12-02T10:17:15.815268Z",
     "start_time": "2024-12-02T10:17:12.014249Z"
    }
   },
   "source": [
    "This notebook is not meant to be run on Google Colab ! "
   ]
  },
  {
   "cell_type": "code",
   "execution_count": null,
   "id": "fd5cb9ca-9243-4f35-b9cd-89b5424df490",
   "metadata": {
    "ExecuteTime": {
     "end_time": "2024-12-02T10:17:15.815268Z",
     "start_time": "2024-12-02T10:17:12.014249Z"
    }
   },
   "outputs": [],
   "source": [
    "if 'google.colab' in str(get_ipython()):\n",
    "    raise ValueError(\"You cannot create a Dask cluster on Google Colab, run this notebook in Binder !\")"
   ]
  },
  {
   "cell_type": "code",
   "execution_count": 2,
   "id": "258e8284-3a5b-4404-bae8-36930050517a",
   "metadata": {
    "ExecuteTime": {
     "end_time": "2024-12-02T10:17:15.815268Z",
     "start_time": "2024-12-02T10:17:12.014249Z"
    }
   },
   "outputs": [
    {
     "data": {
      "application/vnd.jupyter.widget-view+json": {
       "model_id": "e20cf1e2046941eba75619b0c85b0437",
       "version_major": 2,
       "version_minor": 0
      },
      "text/plain": [
       "Output()"
      ]
     },
     "metadata": {},
     "output_type": "display_data"
    },
    {
     "data": {
      "text/html": [
       "<pre style=\"white-space:pre;overflow-x:auto;line-height:normal;font-family:Menlo,'DejaVu Sans Mono',consolas,'Courier New',monospace\"></pre>\n"
      ],
      "text/plain": []
     },
     "metadata": {},
     "output_type": "display_data"
    },
    {
     "name": "stderr",
     "output_type": "stream",
     "text": [
      "Could not get token from client GCP session. This is not a concern unless you're planning to use forwarded GCP credentials on your cluster. The error was: ('invalid_grant: Bad Request', {'error': 'invalid_grant', 'error_description': 'Bad Request'})\n"
     ]
    }
   ],
   "source": [
    "import coiled\n",
    "from dask.distributed import Client\n",
    "\n",
    "# Connect to one of the existing class cluster: \n",
    "# cluster = coiled.Cluster(name=\"ds2-highmem-binder\", workspace=\"class-2025\")\n",
    "cluster = coiled.Cluster(name=\"ds2-highcpu-binder\", workspace=\"class-2025\")\n",
    "client = cluster.get_client()"
   ]
  },
  {
   "cell_type": "code",
   "execution_count": null,
   "id": "1cb445e3586916a2",
   "metadata": {
    "ExecuteTime": {
     "start_time": "2024-12-02T10:18:14.759195Z"
    }
   },
   "outputs": [],
   "source": []
  },
  {
   "cell_type": "code",
   "execution_count": 3,
   "id": "b4b68301-7e95-40a0-b1c7-a126f5062a10",
   "metadata": {},
   "outputs": [
    {
     "name": "stderr",
     "output_type": "stream",
     "text": [
      "/Users/gmaze/miniconda3/envs/ds2-coiled-2025-binder/lib/python3.11/site-packages/distributed/client.py:3162: UserWarning: Sending large graph of size 10.18 MiB.\n",
      "This may cause some slowdown.\n",
      "Consider scattering data ahead of time and using futures.\n",
      "  warnings.warn(\n"
     ]
    },
    {
     "name": "stdout",
     "output_type": "stream",
     "text": [
      "CPU times: user 1.11 s, sys: 300 ms, total: 1.41 s\n",
      "Wall time: 21.2 s\n"
     ]
    },
    {
     "data": {
      "text/plain": [
       "(32.0, 1.6e-06)"
      ]
     },
     "execution_count": 3,
     "metadata": {},
     "output_type": "execute_result"
    }
   ],
   "source": [
    "%%time\n",
    "import dask.array as da\n",
    "x = da.random.normal(10, 0.1, size=(200000,20000), chunks= (1000,1000))\n",
    "y = x.mean(axis=0)[::100]\n",
    "y.compute();\n",
    "x.nbytes/1e9, y.nbytes/1e9\n",
    "\n",
    "# Wall times:\n",
    "# - ds2-highcpu: 10.7 s, 7.38 s, 7.53 s, 7.37 s\n",
    "# - ds2-highmem: 14.7 s, 10 s, 12 s, 15.8 s, 12.7 s"
   ]
  },
  {
   "cell_type": "code",
   "execution_count": null,
   "id": "f167d01b-46f4-4362-9b3b-587be174b60e",
   "metadata": {},
   "outputs": [],
   "source": [
    "from intake import open_catalog\n",
    "catalog_url = 'https://raw.githubusercontent.com/obidam/ds2-2025/main/ds2_data_catalog.yml'\n",
    "cat = open_catalog(catalog_url)\n",
    "cat"
   ]
  },
  {
   "cell_type": "code",
   "execution_count": null,
   "id": "5376b021-525e-40b6-95a3-1c5707697c1c",
   "metadata": {},
   "outputs": [],
   "source": [
    "ds = cat[\"en4\"].to_dask()\n",
    "print(\"Size of the dataset:\", ds.nbytes/1e9,\"Gb\")\n",
    "ds"
   ]
  },
  {
   "cell_type": "code",
   "execution_count": null,
   "id": "941b704d-f7ce-48b2-a6cc-485e7197dc45",
   "metadata": {},
   "outputs": [],
   "source": [
    "ds = cat['sea_surface_height'].to_dask()\n",
    "print(\"Size of the dataset:\", ds.nbytes/1e9,\"Gb\")\n",
    "ds"
   ]
  },
  {
   "cell_type": "code",
   "execution_count": null,
   "id": "930e0935-6042-43e0-8023-20f538412423",
   "metadata": {},
   "outputs": [],
   "source": [
    "%%time\n",
    "ds['adt'].mean(dim='time').compute().plot()"
   ]
  },
  {
   "cell_type": "code",
   "execution_count": null,
   "id": "bb2b4a0b-87ea-47ce-81a4-955106a0d007",
   "metadata": {},
   "outputs": [],
   "source": []
  }
 ],
 "metadata": {
  "kernelspec": {
   "display_name": "ds2-coiled-2025-binder",
   "language": "python",
   "name": "ds2-coiled-2025-binder"
  },
  "language_info": {
   "codemirror_mode": {
    "name": "ipython",
    "version": 3
   },
   "file_extension": ".py",
   "mimetype": "text/x-python",
   "name": "python",
   "nbconvert_exporter": "python",
   "pygments_lexer": "ipython3",
   "version": "3.11.7"
  },
  "widgets": {
   "application/vnd.jupyter.widget-state+json": {
    "state": {},
    "version_major": 2,
    "version_minor": 0
   }
  }
 },
 "nbformat": 4,
 "nbformat_minor": 5
}
