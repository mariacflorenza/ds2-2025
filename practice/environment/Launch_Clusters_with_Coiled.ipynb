{
 "cells": [
  {
   "cell_type": "code",
   "execution_count": null,
   "id": "efb202f8-847e-435b-8e4e-2e52a87a12b6",
   "metadata": {
    "ExecuteTime": {
     "end_time": "2024-12-02T10:17:15.815268Z",
     "start_time": "2024-12-02T10:17:12.014249Z"
    }
   },
   "outputs": [],
   "source": [
    "import coiled\n",
    "from dask.distributed import Client"
   ]
  },
  {
   "cell_type": "code",
   "execution_count": null,
   "id": "1cb445e3586916a2",
   "metadata": {
    "ExecuteTime": {
     "start_time": "2024-12-02T10:18:14.759195Z"
    }
   },
   "outputs": [],
   "source": [
    "# Connect to cluster: \n",
    "cluster = coiled.Cluster(name=\"ds2-highmem\", workspace=\"class-2025\")\n",
    "# cluster = coiled.Cluster(name=\"ds2-highcpu\", workspace=\"class-2025\")\n",
    "client = cluster.get_client()"
   ]
  },
  {
   "cell_type": "code",
   "execution_count": null,
   "id": "b4b68301-7e95-40a0-b1c7-a126f5062a10",
   "metadata": {},
   "outputs": [],
   "source": [
    "%%time\n",
    "import dask.array as da\n",
    "x = da.random.normal(10, 0.1, size=(200000,20000), chunks= (1000,1000))\n",
    "y = x.mean(axis=0)[::100]\n",
    "y.compute();\n",
    "x.nbytes/1e9, y.nbytes/1e9\n",
    "\n",
    "# Wall times:\n",
    "# - ds2-highcpu: 10.7 s, 7.38 s, 7.53 s, 7.37 s\n",
    "# - ds2-highmem: 14.7 s, 10 s, 12 s, 15.8 s, 12.7 s"
   ]
  },
  {
   "cell_type": "code",
   "execution_count": null,
   "id": "f167d01b-46f4-4362-9b3b-587be174b60e",
   "metadata": {},
   "outputs": [],
   "source": [
    "from intake import open_catalog\n",
    "catalog_url = 'https://raw.githubusercontent.com/obidam/ds2-2025/main/ds2_data_catalog.yml'\n",
    "cat = open_catalog(catalog_url)\n",
    "cat"
   ]
  },
  {
   "cell_type": "code",
   "execution_count": null,
   "id": "5376b021-525e-40b6-95a3-1c5707697c1c",
   "metadata": {},
   "outputs": [],
   "source": [
    "ds = cat[\"en4\"].to_dask()\n",
    "print(\"Size of the dataset:\", ds.nbytes/1e9,\"Gb\")\n",
    "ds"
   ]
  },
  {
   "cell_type": "code",
   "execution_count": null,
   "id": "941b704d-f7ce-48b2-a6cc-485e7197dc45",
   "metadata": {},
   "outputs": [],
   "source": [
    "ds = cat['sea_surface_height'].to_dask()\n",
    "print(\"Size of the dataset:\", ds.nbytes/1e9,\"Gb\")\n",
    "ds"
   ]
  },
  {
   "cell_type": "code",
   "execution_count": null,
   "id": "930e0935-6042-43e0-8023-20f538412423",
   "metadata": {},
   "outputs": [],
   "source": [
    "%%time\n",
    "ds['adt'].mean(dim='time').compute().plot()"
   ]
  },
  {
   "cell_type": "code",
   "execution_count": null,
   "id": "bb2b4a0b-87ea-47ce-81a4-955106a0d007",
   "metadata": {},
   "outputs": [],
   "source": []
  }
 ],
 "metadata": {
  "kernelspec": {
   "display_name": "ds2-coiled-2025-binder",
   "language": "python",
   "name": "ds2-coiled-2025-binder"
  },
  "language_info": {
   "codemirror_mode": {
    "name": "ipython",
    "version": 3
   },
   "file_extension": ".py",
   "mimetype": "text/x-python",
   "name": "python",
   "nbconvert_exporter": "python",
   "pygments_lexer": "ipython3",
   "version": "3.11.7"
  },
  "widgets": {
   "application/vnd.jupyter.widget-state+json": {
    "state": {},
    "version_major": 2,
    "version_minor": 0
   }
  }
 },
 "nbformat": 4,
 "nbformat_minor": 5
}
